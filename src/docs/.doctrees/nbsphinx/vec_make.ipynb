{
 "cells": [
  {
   "cell_type": "markdown",
   "metadata": {},
   "source": [
    "# vec_make"
   ]
  },
  {
   "cell_type": "markdown",
   "metadata": {},
   "source": [
    "#### 概要"
   ]
  },
  {
   "cell_type": "markdown",
   "metadata": {},
   "source": [
    "この関数は関数「mat_make」内で行列要素を計算するのに用いる"
   ]
  },
  {
   "cell_type": "markdown",
   "metadata": {},
   "source": [
    "#### 引数一覧"
   ]
  },
  {
   "cell_type": "markdown",
   "metadata": {},
   "source": [
    "|argument name|type|role|\n",
    "|---|---|---|\n",
    "|gate_inf|str|「mat_make」で扱う行列の要素が格納されたlist|\n",
    "|zero_one|list(elements:int)|「mat_make」の行列要素に作用させる係数を格納したlist|"
   ]
  },
  {
   "cell_type": "markdown",
   "metadata": {},
   "source": [
    "#### 戻り値"
   ]
  },
  {
   "cell_type": "markdown",
   "metadata": {},
   "source": [
    "app_lst（list）:計算結果を格納するlist\\\n",
    "格納されている要素はfloat型"
   ]
  },
  {
   "cell_type": "markdown",
   "metadata": {},
   "source": [
    "#### Python code"
   ]
  },
  {
   "cell_type": "markdown",
   "metadata": {},
   "source": [
    "```python\n",
    "def vec_make(ele, coflst):\n",
    "    app_lst = []\n",
    "    cor_list_one = []\n",
    "    cor_list_two = []\n",
    "    for i in range(len(coflst)):\n",
    "        corlen = len(ele)//len(coflst)\n",
    "        cor_list_one = ele[corlen*i: corlen*i+corlen//2]\n",
    "        cor_list_two = ele[corlen*i+corlen//2: corlen*i+corlen]\n",
    "        for j in range(len(cor_list_one)):\n",
    "            app_lst.append(-cor_list_one[j]/coflst[i])\n",
    "        for j in range(len(cor_list_two)):\n",
    "            app_lst.append(cor_list_two[j]*coflst[i])\n",
    "    return app_lst\n",
    "```"
   ]
  },
  {
   "cell_type": "markdown",
   "metadata": {},
   "source": [
    "#### 注意点"
   ]
  },
  {
   "cell_type": "markdown",
   "metadata": {},
   "source": [
    "この関数は「mat_maker」内のみで用いることを想定している"
   ]
  }
 ],
 "metadata": {
  "language_info": {
   "name": "python"
  }
 },
 "nbformat": 4,
 "nbformat_minor": 2
}
