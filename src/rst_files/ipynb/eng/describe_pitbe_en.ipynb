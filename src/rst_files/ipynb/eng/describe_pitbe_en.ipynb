{
 "cells": [
  {
   "cell_type": "markdown",
   "id": "836604a3",
   "metadata": {},
   "source": [
    "## **About PItBE**"
   ]
  },
  {
   "cell_type": "markdown",
   "id": "26d27b58",
   "metadata": {},
   "source": [
    "The Python package `PItBE` is designed for executing the BE method.\n",
    "With this module, the BE method can be implemented with ease.\n",
    "\n",
    "This page provides an overview of `PItBE` and outlines the conditions required for its execution.\n",
    "\n",
    "For programming details on the individual functions included in `PItBE`, please refer to `Contents` section below."
   ]
  },
  {
   "cell_type": "markdown",
   "id": "5894bebd",
   "metadata": {},
   "source": [
    "### **Outline**"
   ]
  },
  {
   "cell_type": "markdown",
   "id": "138c374e",
   "metadata": {},
   "source": [
    "PItBE (Popularized Implementation for the BE) is a Python package designed to implement the BE method on quantum circuits.\n",
    "\n",
    "This package enables BE-based implementations for arbitrary non-unitary matrices, as long as they can be expressed as linear combinations of unitary (Pauli-product) matrices. This is achieved through internal functions that calculate the required matrices acting on ancillary qubits and assign the corresponding control bits and controlled quantum gates.\n",
    "\n",
    "While executing a BE procedure requires combining multiple functions from the package, the process closely follows the formal steps of the BE method.\\\n",
    "As a result, users with prior knowledge of BE can easily use the package, and even beginners can deepen their understanding of BE theory by running and experimenting with this implementation."
   ]
  },
  {
   "cell_type": "markdown",
   "id": "31f5cb10",
   "metadata": {},
   "source": [
    "### **Recommended Environment**"
   ]
  },
  {
   "cell_type": "markdown",
   "id": "b05e572b",
   "metadata": {},
   "source": [
    "The recommended environment for this package is as follows:\n",
    "\n",
    "- Python 3.10.0 or higher  \n",
    "- NumPy 1.25.2 or higher  \n",
    "- Qulacs 0.6.2 or higher  \n",
    "- Qiskit 2.0.2 or higher  \n",
    "- Qiskit Aer 0.17.1 or higher  \n",
    "\n",
    "These versions have been tested and confirmed to work by the author.  \n",
    "Please note that future updates to this package or the dependencies listed above may require changes to the supported versions.  \n",
    "Make sure to check the **Updates** section in the README for the latest compatibility information."
   ]
  }
 ],
 "metadata": {
  "language_info": {
   "name": "python"
  }
 },
 "nbformat": 4,
 "nbformat_minor": 5
}
