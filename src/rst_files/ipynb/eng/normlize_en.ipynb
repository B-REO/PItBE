{
 "cells": [
  {
   "cell_type": "markdown",
   "id": "4d6e42b2",
   "metadata": {},
   "source": [
    "## normlize"
   ]
  },
  {
   "cell_type": "markdown",
   "id": "378645f2",
   "metadata": {},
   "source": [
    "### **Outline**\n",
    "The output of the BE method includes not only the result of applying the reconstructed matrix to an arbitrary initial state, but also unrelated components.\\\n",
    "These two can be distinguished based on whether all ancillary qubits are in the 0 state.\\\n",
    "This function takes the output data as input and filters out only the components where all ancillary qubits are in the `0` state."
   ]
  },
  {
   "cell_type": "markdown",
   "id": "dba00b89",
   "metadata": {},
   "source": [
    "### **Index List**\n",
    "|argument name|type|role|\n",
    "|---|---|---|\n",
    "|non_normal|list(elements:float)|Result of the BE method|\n",
    "|num_anci|str|the number of ancilla qubits|\n",
    "|num_main|str|the number of main qubits|"
   ]
  },
  {
   "cell_type": "markdown",
   "id": "fb52c6da",
   "metadata": {},
   "source": [
    "### **Return**\n",
    "nor_list（list）:\\\n",
    "A list containing only the valid operation results.\\\n",
    "All elements are of type `float`, and the list size equals `num_main`."
   ]
  },
  {
   "cell_type": "markdown",
   "id": "3605e7c5",
   "metadata": {},
   "source": [
    "### **Python code**\n",
    "```python\n",
    "def normlize(non_normal, num_anci, num_main):\n",
    "    \"\"\"\n",
    "    This function extracts only those results of the Block-Encoding where all ancilla qubits are in the 0 state.\n",
    "\n",
    "    Parameters:\n",
    "        non_normal: the result of Block-Encoding\n",
    "        num_anci: the number of ancilla qubits\n",
    "        num_main: the number of main qubits\n",
    "\n",
    "    Returns:\n",
    "        list: An element in which all ancilla qubits are in the 0 state.\n",
    "    \"\"\"\n",
    "    nor_list = np.zeros(2**num_main)\n",
    "    for i in range(len(nor_list)):\n",
    "        nor_list[i] = non_normal[(2**num_anci)*i]\n",
    "    return nor_list\n",
    "```"
   ]
  },
  {
   "cell_type": "markdown",
   "id": "deecbfba",
   "metadata": {},
   "source": [
    "### **Sample Run**"
   ]
  },
  {
   "cell_type": "code",
   "execution_count": null,
   "id": "774872a6",
   "metadata": {},
   "outputs": [],
   "source": [
    "import numpy as np\n",
    "import pitbe"
   ]
  },
  {
   "cell_type": "code",
   "execution_count": null,
   "id": "14c50712",
   "metadata": {},
   "outputs": [
    {
     "name": "stdout",
     "output_type": "stream",
     "text": [
      "[0.03430382 0.29907052 0.11511666 0.40287628]\n"
     ]
    }
   ],
   "source": [
    "original_lst = [0.03430382, 0.39656426, 0.24126964, 0.17898467,\n",
    "                0.29907052, 0.1674197 , 0.34628447, 0.08930495,\n",
    "                0.11511666, 0.10849872, 0.03144708, 0.29855981,\n",
    "                0.40287628, 0.37323106, 0.10328945, 0.28021869]\n",
    "anci = 2\n",
    "main = 2\n",
    "print(pitbe.normlize(original_lst, anci, main))"
   ]
  }
 ],
 "metadata": {
  "language_info": {
   "name": "python"
  }
 },
 "nbformat": 4,
 "nbformat_minor": 5
}
