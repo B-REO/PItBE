{
 "cells": [
  {
   "cell_type": "markdown",
   "metadata": {},
   "source": [
    "## normlize"
   ]
  },
  {
   "cell_type": "markdown",
   "metadata": {},
   "source": [
    "### **概要**\n",
    "Block-Encodingによる出力結果は再現した行列を任意の初期状態に作用させた結果だけでなく関係のないものも含まれている。これら二つを区別するのは補助量子ビットの値がすべて0かどうかである。\\\n",
    "この関数では出力結果を入力情報として補助量子ビットの値が全て0であるもののみをピックアップし出力させる"
   ]
  },
  {
   "cell_type": "markdown",
   "metadata": {},
   "source": [
    "### **引数一覧**\n",
    "|argument name|type|role|\n",
    "|---|---|---|\n",
    "|non_normal|list(elements:float)|ブロックエンコーディングによる作用結果|\n",
    "|num_anci|str|ブロックエンコーディングで用いる補助ビットの数|\n",
    "|num_main|str|ブロックエンコーディングで用いる初期状態を記述するビットの数|"
   ]
  },
  {
   "cell_type": "markdown",
   "metadata": {},
   "source": [
    "### **戻り値**\n",
    "nor_list（list）:正しい作用結果のみを格納したlist\\\n",
    "格納されている各要素はfloat型である\\\n",
    "なおlistのsizeはnum_mainのそれである"
   ]
  },
  {
   "cell_type": "markdown",
   "metadata": {},
   "source": [
    "### **Python code**\n",
    "```python\n",
    "def normlize(non_normal, num_anci, num_main):\n",
    "    \"\"\"\n",
    "    This function extracts only those results of the Block-Encoding where all ancilla qubits are in the 0 state.\n",
    "\n",
    "    Parameters:\n",
    "        non_normal: the result of Block-Encoding\n",
    "        num_anci: the number of ancilla qubits\n",
    "        num_main: the number of main qubits\n",
    "\n",
    "    Returns:\n",
    "        list: An element in which all ancilla qubits are in the 0 state.\n",
    "    \"\"\"\n",
    "    nor_list = np.zeros(2**num_main)\n",
    "    for i in range(len(nor_list)):\n",
    "        nor_list[i] = non_normal[(2**num_anci)*i]\n",
    "    return nor_list\n",
    "```"
   ]
  },
  {
   "cell_type": "markdown",
   "metadata": {},
   "source": [
    "### **実行例**"
   ]
  },
  {
   "cell_type": "code",
   "execution_count": 1,
   "metadata": {},
   "outputs": [],
   "source": [
    "import numpy as np\n",
    "import pitbe"
   ]
  },
  {
   "cell_type": "code",
   "execution_count": 2,
   "metadata": {},
   "outputs": [
    {
     "name": "stdout",
     "output_type": "stream",
     "text": [
      "[0.03430382 0.29907052 0.11511666 0.40287628]\n"
     ]
    }
   ],
   "source": [
    "original_lst = [0.03430382, 0.39656426, 0.24126964, 0.17898467,\n",
    "                0.29907052, 0.1674197 , 0.34628447, 0.08930495,\n",
    "                0.11511666, 0.10849872, 0.03144708, 0.29855981,\n",
    "                0.40287628, 0.37323106, 0.10328945, 0.28021869]\n",
    "anci = 2\n",
    "main = 2\n",
    "print(pitbe.normlize(original_lst, anci, main))"
   ]
  }
 ],
 "metadata": {
  "kernelspec": {
   "display_name": "Python 3",
   "language": "python",
   "name": "python3"
  },
  "language_info": {
   "name": "python",
   "version": "3.10.1"
  }
 },
 "nbformat": 4,
 "nbformat_minor": 2
}
