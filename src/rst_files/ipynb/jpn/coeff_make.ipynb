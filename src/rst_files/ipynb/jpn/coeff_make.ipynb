{
 "cells": [
  {
   "cell_type": "markdown",
   "metadata": {},
   "source": [
    "## coeff_make"
   ]
  },
  {
   "cell_type": "markdown",
   "metadata": {},
   "source": [
    "### **概要**\n",
    "この関数では本パッケージ内の関数`mat_maker`でもちいる引数を作成する\\\n",
    "`mat_maker`の実行においては本関数による出力結果を用いることを強く推奨する\n",
    "\n",
    "この関数は入力するvecのlengthによって変化する方程式を解いている\\\n",
    "例えばlengthが8の場合は以下のような方程式を解いている\\\n",
    "ここでは$a_i$が入力値であり、$\\alpha_i$が出力値である\n",
    "\n",
    "$$\n",
    "\\begin{aligned} \n",
    "    &\\alpha_1\\sum_{n=0}^{7}{}a_{0n}^2 \n",
    "    - \\alpha_1^{-1}\\sum_{n=8}^{15}{}a_{0n}^2 = 0\\\\ \n",
    "    &\\alpha_2\\sum_{n=0}^{3}{}a_{0n}^2 - \\alpha_2^{-1}\\sum_{n=4}^{7}{}a_{0n}^2 +\\alpha_3 \\sum_{n=8}^{11}{}a_{0n}^2 \n",
    "    - \\alpha_3^{-1}\\sum_{n=12}^{15}{}a_{0n}^2 = 0\\\\ \n",
    "    &\\alpha_1\\alpha_2\\sum_{n=0}^{3}{}a_{0n}^2 \n",
    "    - \\alpha_1\\alpha_2^{-1}\\sum_{n=4}^{7}{}a_{0n}^2 +\n",
    "    \\alpha_1^{-1}\\alpha_3 \\sum_{n=8}^{11}{}a_{0n}^2 \n",
    "    - \\alpha_1^{-1}\\alpha_3^{-1}\\sum_{n=12}^{15}{}a_{0n}^2 = 0\\\\\n",
    "    &\\sum_{n=0}^3\\Biggl(\\alpha_{n+4}\\sum_{l=4n}^{4n+1}a_{02l}^2+\\alpha_{n+4}^{-1}\\sum_{l=4n+2}^{4n+3}a_{02l}^2\\Biggr) = 0\\\\\n",
    "    &\\alpha_1\\sum_{n=0}^1\\Biggl(\\alpha_{n+4}\\sum_{l=4n}^{4n+1}a_{02l}^2+\\alpha_{n+4}^{-1}\\sum_{l=4n+2}^{4n+3}a_{02l}^2\\Biggr) + \\alpha_1^{-1}\\sum_{n=2}^3\\Biggl(\\alpha_{n+4}\\sum_{l=4n}^{4n+1}a_{02l}^2+\\alpha_{n+4}^{-1}\\sum_{l=4n+2}^{4n+3}a_{02l}^2\\Biggr) = 0\\\\\n",
    "    &\\sum_{n=0}^1\\alpha_{n+1}\\Biggl(\\alpha_{2n+4}\\sum_{l=0}^{1}a_{0(8n+l)}^2+\\alpha_{2n+4}^{-1}\\sum_{l=0}^{1}a_{{02(8n+l+2)}}^2\\Biggr) + \\sum_{n=0}^1\\alpha_{n+1}^{-1}\\Biggl(\\alpha_{2n+5}\\sum_{l=0}^{1}a_{0(8n+l+5)}^2+\\alpha_{2n+2}^{-1}\\sum_{l=0}^{1}a_{{02(8n+l+6)}}^2\\Biggr) = 0\\\\\n",
    "    &\\sum_{n=0}^1\\alpha_{1}^{(-1)^n}\\alpha_{n+1}\\Biggl(\\alpha_{2n+4}\\sum_{l=0}^{1}a_{0(8n+l)}^2+\\alpha_{2n+4}^{-1}\\sum_{l=0}^{1}a_{{02(8n+l+2)}}^2\\Biggr) \n",
    "    + \\sum_{n=0}^1\\alpha_{1}^{(-1)^n}\\alpha_{n+1}^{-1}\\Biggl(\\alpha_{2n+5}\\sum_{l=0}^{1}a_{0(8n+l+5)}^2+\\alpha_{2n+2}^{-1}\\sum_{l=0}^{1}a_{{02(8n+l+6)}}^2\\Biggr) = 0\\\\\n",
    "\\end{aligned}\n",
    "$$\n",
    "\n",
    "以上の連立方程式を解くことにより、任意の数列に対して数列を一番目の列ベクトルとするユニタリ行列を作成できる、"
   ]
  },
  {
   "cell_type": "markdown",
   "metadata": {},
   "source": [
    "### **引数一覧**"
   ]
  },
  {
   "cell_type": "markdown",
   "metadata": {},
   "source": [
    "\n",
    "|argument name|type|role|\n",
    "|---|---|---|\n",
    "|vec|list(elements:float)|線型結合で表現したときの係数を規格化したlist|"
   ]
  },
  {
   "cell_type": "markdown",
   "metadata": {},
   "source": [
    "### **戻り値**\n",
    "\n",
    "coeff_list (list): 計算結果が格納されたlist。`mat_maker`の実行において必要となる。"
   ]
  },
  {
   "cell_type": "markdown",
   "metadata": {},
   "source": [
    "### **Python code**\n",
    "```python\n",
    "def coeff_make(vec):\n",
    "    \"\"\"\n",
    "    This function generates the arguments used by the mat_make function within this package.\n",
    "    It is strongly recommended to use the output of this function when executing mat_make.\n",
    "    This function solves the system of equations described above.\n",
    "    (a_i is the input value, and α_i is the desired solution.)\n",
    "\n",
    "    Parameters:\n",
    "        vec: The first column vector of the unitary matrix to be constructed\n",
    "\n",
    "    Returns:\n",
    "        list: the desired solution\n",
    "    \"\"\"\n",
    "    # Local Value\n",
    "    coeff_list = [] # A list to store the desired solution\n",
    "    cal_list = [] # A list to store the sumation (ex: a_1 + a_2 + a_3 + a_4) \n",
    "    # Solve the system of equations\n",
    "    if len(vec) == 2:\n",
    "        print(\"You do not need to calculate coefficients!!\")\n",
    "        return [vec[1], vec[0]]\n",
    "    else:\n",
    "        # Take the sum over a subset of the input values, 'vec' \n",
    "        for i in range(int(np.log2(len(vec))) - 1):\n",
    "            pre_list = []\n",
    "            sep_num = 2**(i+1)\n",
    "            elelen = len(vec)\n",
    "            for j in range(sep_num):\n",
    "                sum_list = vec[elelen//sep_num*j: \n",
    "                               (elelen//sep_num*(j+1))]\n",
    "                sum_pow = np.sum(np.array(sum_list)**2)\n",
    "                if sum_pow == 0:\n",
    "                    pre_list.append(1)\n",
    "                else:\n",
    "                    pre_list.append(sum_pow)\n",
    "            cal_list.append(pre_list)\n",
    "        # Compute the square of the ratio of two sums\n",
    "        for i in range(len(cal_list)):\n",
    "            save_list = []\n",
    "            for j in range(len(cal_list[i])//2):\n",
    "                save_list.append(np.sqrt(cal_list[i]\\\n",
    "                                [2*j]/cal_list[i][2*j+1]))\n",
    "            coeff_list.append(save_list)\n",
    "        return coeff_list\n",
    "```"
   ]
  },
  {
   "cell_type": "markdown",
   "metadata": {},
   "source": [
    "### **実行例**"
   ]
  },
  {
   "cell_type": "code",
   "execution_count": 1,
   "metadata": {},
   "outputs": [],
   "source": [
    "import numpy as np\n",
    "import pitbe"
   ]
  },
  {
   "cell_type": "code",
   "execution_count": 2,
   "metadata": {},
   "outputs": [
    {
     "name": "stdout",
     "output_type": "stream",
     "text": [
      "[[1.483163853864426], [1.3228881288499281, 0.5590366356510099]]\n"
     ]
    }
   ],
   "source": [
    "input_vector = [0.5, 0.433, 0.25, 0.433, 0.433, 0.3536, 0., 0.]\n",
    "print(pitbe.coeff_make(input_vector))"
   ]
  }
 ],
 "metadata": {
  "kernelspec": {
   "display_name": "Python 3",
   "language": "python",
   "name": "python3"
  },
  "language_info": {
   "codemirror_mode": {
    "name": "ipython",
    "version": 3
   },
   "file_extension": ".py",
   "mimetype": "text/x-python",
   "name": "python",
   "nbconvert_exporter": "python",
   "pygments_lexer": "ipython3",
   "version": "3.11.6"
  }
 },
 "nbformat": 4,
 "nbformat_minor": 2
}
